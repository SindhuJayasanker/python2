{
 "cells": [
  {
   "cell_type": "code",
   "execution_count": 1,
   "metadata": {},
   "outputs": [
    {
     "name": "stdout",
     "output_type": "stream",
     "text": [
      "[1, 3.5, 'hi', 'hello']\n"
     ]
    }
   ],
   "source": [
    "#here we are going to see about different data types in python\n",
    "\n",
    "#1.list (ordered sequence of objects)\n",
    "#some of the methods in list\n",
    "\n",
    "#append()\n",
    "#adds an item at the end of the list\n",
    "lst=[1,3.5,\"hi\"]\n",
    "lst.append(\"hello\")\n",
    "print(lst)"
   ]
  },
  {
   "cell_type": "code",
   "execution_count": 11,
   "metadata": {},
   "outputs": [
    {
     "name": "stdout",
     "output_type": "stream",
     "text": [
      "LIST: []\n"
     ]
    }
   ],
   "source": [
    "#clear()\n",
    "#removes al the items from the list\n",
    "lst.clear()\n",
    "print('LIST:',lst)"
   ]
  },
  {
   "cell_type": "code",
   "execution_count": 23,
   "metadata": {},
   "outputs": [
    {
     "name": "stdout",
     "output_type": "stream",
     "text": [
      "[1, 2, 3, 3, 3, 'j', 'm']\n"
     ]
    }
   ],
   "source": [
    "#copy()\n",
    "#copying the list\n",
    "lst=[1,2,3,3,3,'j','m']\n",
    "lst2=lst\n",
    "print(lst2)"
   ]
  },
  {
   "cell_type": "code",
   "execution_count": 30,
   "metadata": {},
   "outputs": [
    {
     "name": "stdout",
     "output_type": "stream",
     "text": [
      "[2, 3, 3, 3, 'j', 'm']\n"
     ]
    }
   ],
   "source": [
    "#remove()\n",
    "#removes the given element from the list\n",
    "lst=[1,2,3,3,3,'j','m']\n",
    "lst.remove(1)\n",
    "print(lst)"
   ]
  },
  {
   "cell_type": "code",
   "execution_count": 25,
   "metadata": {},
   "outputs": [
    {
     "name": "stdout",
     "output_type": "stream",
     "text": [
      "['m', 'j', 3, 3, 3, 2]\n"
     ]
    }
   ],
   "source": [
    "#reverse()\n",
    "#reverses the given list \n",
    "lst.reverse()\n",
    "print(lst)"
   ]
  },
  {
   "cell_type": "code",
   "execution_count": 40,
   "metadata": {},
   "outputs": [
    {
     "name": "stdout",
     "output_type": "stream",
     "text": [
      "3\n"
     ]
    }
   ],
   "source": [
    "#count()\n",
    "#counts the no of occurence of the given element\n",
    "lst=[1,2,3,4,5,5,5]\n",
    "x=lst.count(5)\n",
    "print(x)"
   ]
  },
  {
   "cell_type": "code",
   "execution_count": 35,
   "metadata": {},
   "outputs": [
    {
     "name": "stdout",
     "output_type": "stream",
     "text": [
      "['a', 'b', 'c', 'd', 'e']\n"
     ]
    }
   ],
   "source": [
    "#insert\n",
    "#inserts a element in the given index\n",
    "lst2=['a','b','d','e']\n",
    "lst2.insert(2,'c')\n",
    "print(lst2)"
   ]
  },
  {
   "cell_type": "code",
   "execution_count": 37,
   "metadata": {},
   "outputs": [
    {
     "name": "stdout",
     "output_type": "stream",
     "text": [
      "d\n",
      "['a', 'b', 'c', 'e']\n"
     ]
    }
   ],
   "source": [
    "#pop()\n",
    "#returns the item present at the given index and the item is also removed from the list\n",
    "lst2=['a','b','d','e']\n",
    "y=lst2.pop(3)\n",
    "print(y)\n",
    "print(lst2)"
   ]
  },
  {
   "cell_type": "code",
   "execution_count": 43,
   "metadata": {},
   "outputs": [
    {
     "name": "stdout",
     "output_type": "stream",
     "text": [
      "['a', 'b', 'c', 'd', 'e']\n"
     ]
    }
   ],
   "source": [
    "#sort()\n",
    "#sorts the elements in the given list in ascending or descending order\n",
    "lst=['d','b','a','e','c']\n",
    "lst.sort()\n",
    "print(lst)"
   ]
  },
  {
   "cell_type": "code",
   "execution_count": 46,
   "metadata": {},
   "outputs": [
    {
     "name": "stdout",
     "output_type": "stream",
     "text": [
      "[1, 2, 3, 4]\n"
     ]
    }
   ],
   "source": [
    "#extend()\n",
    "#adds elements of a list to another list\n",
    "lst1=[1,2]\n",
    "lst2=[3,4]\n",
    "lst1.extend(lst2)\n",
    "print(lst1)"
   ]
  },
  {
   "cell_type": "code",
   "execution_count": 50,
   "metadata": {},
   "outputs": [
    {
     "name": "stdout",
     "output_type": "stream",
     "text": [
      "1\n",
      "4\n"
     ]
    }
   ],
   "source": [
    "#index()\n",
    "#returns the index of the given element\n",
    "lst=[1,2,3,4,5]\n",
    "x=lst.index(2)\n",
    "y=lst.index(5)\n",
    "print(x)\n",
    "print(y)"
   ]
  },
  {
   "cell_type": "code",
   "execution_count": 9,
   "metadata": {},
   "outputs": [
    {
     "name": "stdout",
     "output_type": "stream",
     "text": [
      "b\n"
     ]
    }
   ],
   "source": [
    "#2.dictionary\n",
    "#some of the methods in dictionary \n",
    "\n",
    "#get()\n",
    "#accessing elements from the dictionary using key\n",
    "dict={1:'a',2:'b',3:'c',4:'d'}\n",
    "print(dict.get(2))\n",
    "\n",
    "\n"
   ]
  },
  {
   "cell_type": "code",
   "execution_count": 10,
   "metadata": {},
   "outputs": [
    {
     "name": "stdout",
     "output_type": "stream",
     "text": [
      "b\n",
      "{1: 'a', 3: 'c', 4: 'd'}\n"
     ]
    }
   ],
   "source": [
    "#pop()\n",
    "#removes an item using key\n",
    "dict={1:'a',2:'b',3:'c',4:'d'}\n",
    "print(dict.pop(2))\n",
    "print(dict)"
   ]
  },
  {
   "cell_type": "code",
   "execution_count": 11,
   "metadata": {},
   "outputs": [
    {
     "name": "stdout",
     "output_type": "stream",
     "text": [
      "(4, 'd')\n"
     ]
    }
   ],
   "source": [
    "#popitem()\n",
    "dict={1:'a',2:'b',3:'c',4:'d'}\n",
    "print(dict.popitem())"
   ]
  },
  {
   "cell_type": "code",
   "execution_count": 12,
   "metadata": {},
   "outputs": [
    {
     "name": "stdout",
     "output_type": "stream",
     "text": [
      "None\n"
     ]
    }
   ],
   "source": [
    "#clear()\n",
    "#removes al the items\n",
    "dict={1:'a',2:'b',3:'c',4:'d'}\n",
    "print(dict.clear())"
   ]
  },
  {
   "cell_type": "code",
   "execution_count": 14,
   "metadata": {},
   "outputs": [
    {
     "name": "stdout",
     "output_type": "stream",
     "text": [
      "{1: None, 2: None, 3: None, 4: None}\n"
     ]
    }
   ],
   "source": [
    "#fromkeys()\n",
    "dict={1:'a',2:'b',3:'c',4:'d'}\n",
    "x=dict.fromkeys(dict)\n",
    "print(x)"
   ]
  },
  {
   "cell_type": "code",
   "execution_count": 15,
   "metadata": {},
   "outputs": [
    {
     "name": "stdout",
     "output_type": "stream",
     "text": [
      "dict_keys([1, 2, 3, 4])\n"
     ]
    }
   ],
   "source": [
    "#keys()\n",
    "#displays the list of keys\n",
    "dict={1:'a',2:'b',3:'c',4:'d'}\n",
    "print(dict.keys())"
   ]
  },
  {
   "cell_type": "code",
   "execution_count": 17,
   "metadata": {},
   "outputs": [
    {
     "name": "stdout",
     "output_type": "stream",
     "text": [
      "gender is male\n"
     ]
    }
   ],
   "source": [
    "#setdefault()\n",
    "dict={\"name\":'a',\"age\":18,\"gender\":\"male\"}\n",
    "g=dict.setdefault(\"gender\")\n",
    "print('gender is',g )"
   ]
  },
  {
   "cell_type": "code",
   "execution_count": 18,
   "metadata": {},
   "outputs": [
    {
     "name": "stdout",
     "output_type": "stream",
     "text": [
      "{'name': 'a', 'age': 18, 'gender': 'male'}\n"
     ]
    }
   ],
   "source": [
    "#copy()\n",
    "dict={\"name\":'a',\"age\":18,\"gender\":\"male\"}\n",
    "new=dict\n",
    "print(new)\n"
   ]
  },
  {
   "cell_type": "code",
   "execution_count": 19,
   "metadata": {},
   "outputs": [
    {
     "name": "stdout",
     "output_type": "stream",
     "text": [
      "2\n"
     ]
    }
   ],
   "source": [
    "#3.tuples()\n",
    "#ordered immutable sequence of objects\n",
    "\n",
    "#count()\n",
    "#counts the number of occurence of given element in a tuple\n",
    "tup=('a','b','c','d','a')\n",
    "print(tup.count('a'))\n"
   ]
  },
  {
   "cell_type": "code",
   "execution_count": 21,
   "metadata": {},
   "outputs": [
    {
     "name": "stdout",
     "output_type": "stream",
     "text": [
      "1\n"
     ]
    }
   ],
   "source": [
    "#index()\n",
    "#returs the index value of the given element in a tuple\n",
    "print(tup.index('b'))"
   ]
  },
  {
   "cell_type": "code",
   "execution_count": 24,
   "metadata": {},
   "outputs": [
    {
     "name": "stdout",
     "output_type": "stream",
     "text": [
      "2222\n"
     ]
    }
   ],
   "source": [
    "#some methods in python\n",
    "#max()\n",
    "tup=(10,200,1,2222,11)\n",
    "print(max(tup))"
   ]
  },
  {
   "cell_type": "code",
   "execution_count": 25,
   "metadata": {},
   "outputs": [
    {
     "name": "stdout",
     "output_type": "stream",
     "text": [
      "1\n"
     ]
    }
   ],
   "source": [
    "#min()\n",
    "print(min(tup))"
   ]
  },
  {
   "cell_type": "code",
   "execution_count": 26,
   "metadata": {},
   "outputs": [
    {
     "name": "stdout",
     "output_type": "stream",
     "text": [
      "5\n"
     ]
    }
   ],
   "source": [
    "#len()\n",
    "print(len(tup))"
   ]
  },
  {
   "cell_type": "code",
   "execution_count": 2,
   "metadata": {},
   "outputs": [
    {
     "data": {
      "text/plain": [
       "'Hi! hello'"
      ]
     },
     "execution_count": 2,
     "metadata": {},
     "output_type": "execute_result"
    }
   ],
   "source": [
    "#4.string\n",
    "\n",
    "#capitialize\n",
    "\n",
    "str=\"hi! hello\"\n",
    "str.capitalize()"
   ]
  },
  {
   "cell_type": "code",
   "execution_count": 3,
   "metadata": {},
   "outputs": [
    {
     "data": {
      "text/plain": [
       "'hi! hello'"
      ]
     },
     "execution_count": 3,
     "metadata": {},
     "output_type": "execute_result"
    }
   ],
   "source": [
    "#casefold\n",
    "str=\"hi! hello\"\n",
    "str.casefold()\n"
   ]
  },
  {
   "cell_type": "code",
   "execution_count": 1,
   "metadata": {},
   "outputs": [
    {
     "data": {
      "text/plain": [
       "'hi! hello'"
      ]
     },
     "execution_count": 1,
     "metadata": {},
     "output_type": "execute_result"
    }
   ],
   "source": [
    "#center\n",
    "str=\"hi! hello\"\n",
    "str.center(2)"
   ]
  },
  {
   "cell_type": "code",
   "execution_count": 9,
   "metadata": {},
   "outputs": [
    {
     "data": {
      "text/plain": [
       "'hi! hello'"
      ]
     },
     "execution_count": 9,
     "metadata": {},
     "output_type": "execute_result"
    }
   ],
   "source": [
    "#center\n",
    "str=\"hi! hello\"\n",
    "str.center(2)"
   ]
  },
  {
   "cell_type": "code",
   "execution_count": 17,
   "metadata": {},
   "outputs": [
    {
     "data": {
      "text/plain": [
       "b'hi! hello'"
      ]
     },
     "execution_count": 17,
     "metadata": {},
     "output_type": "execute_result"
    }
   ],
   "source": [
    "#encode\n",
    "str=\"hi! hello\"\n",
    "str.encode()"
   ]
  },
  {
   "cell_type": "code",
   "execution_count": 16,
   "metadata": {},
   "outputs": [
    {
     "name": "stdout",
     "output_type": "stream",
     "text": [
      "{'c', 'a', 'b'}\n",
      "set()\n"
     ]
    }
   ],
   "source": [
    "#5.sets\n",
    "set={'a','b'}\n",
    "#add  \n",
    "set.add('c')\n",
    "print(set)\n",
    "#clear\n",
    "set.clear()\n",
    "print(set)"
   ]
  },
  {
   "cell_type": "code",
   "execution_count": 17,
   "metadata": {},
   "outputs": [
    {
     "name": "stdout",
     "output_type": "stream",
     "text": [
      "set()\n"
     ]
    }
   ],
   "source": [
    "#clear\n",
    "set={'a','b'}\n",
    "set.clear()\n",
    "print(set)"
   ]
  },
  {
   "cell_type": "code",
   "execution_count": 21,
   "metadata": {},
   "outputs": [
    {
     "name": "stdout",
     "output_type": "stream",
     "text": [
      "{'a', 'b'}\n"
     ]
    }
   ],
   "source": [
    "#copy\n",
    "set={'a','b'}\n",
    "set.copy()\n",
    "print(set)"
   ]
  },
  {
   "cell_type": "code",
   "execution_count": 22,
   "metadata": {},
   "outputs": [
    {
     "name": "stdout",
     "output_type": "stream",
     "text": [
      "{'a', 'b'}\n"
     ]
    }
   ],
   "source": [
    "#difference\n",
    "set={'a','b'}\n",
    "set.difference()\n",
    "print(set)"
   ]
  },
  {
   "cell_type": "code",
   "execution_count": null,
   "metadata": {},
   "outputs": [],
   "source": []
  }
 ],
 "metadata": {
  "kernelspec": {
   "display_name": "Python 3",
   "language": "python",
   "name": "python3"
  },
  "language_info": {
   "codemirror_mode": {
    "name": "ipython",
    "version": 3
   },
   "file_extension": ".py",
   "mimetype": "text/x-python",
   "name": "python",
   "nbconvert_exporter": "python",
   "pygments_lexer": "ipython3",
   "version": "3.7.3"
  }
 },
 "nbformat": 4,
 "nbformat_minor": 4
}
